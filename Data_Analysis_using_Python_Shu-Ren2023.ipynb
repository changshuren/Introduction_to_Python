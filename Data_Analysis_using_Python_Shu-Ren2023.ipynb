{
 "cells": [
  {
   "cell_type": "markdown",
   "metadata": {
    "colab_type": "text",
    "id": "mbcYvWaPoOL0"
   },
   "source": [
    "\n",
    "## DATA ANALYSIS USING PYTHON"
   ]
  },
  {
   "cell_type": "markdown",
   "metadata": {
    "colab_type": "text",
    "id": "hQah2w4jWXx2"
   },
   "source": [
    "## Basic Operations  \n",
    "`\n"
   ]
  },
  {
   "cell_type": "markdown",
   "metadata": {
    "colab_type": "text",
    "id": "fP5gxpt3oOL2"
   },
   "source": [
    "Try the following:"
   ]
  },
  {
   "cell_type": "code",
   "execution_count": 1,
   "metadata": {
    "colab": {
     "base_uri": "https://localhost:8080/",
     "height": 34
    },
    "colab_type": "code",
    "id": "eyVhoLPyoOL3",
    "outputId": "65277649-0006-4c12-9128-2086938defe7"
   },
   "outputs": [
    {
     "data": {
      "text/plain": [
       "457"
      ]
     },
     "execution_count": 1,
     "metadata": {},
     "output_type": "execute_result"
    }
   ],
   "source": [
    "26+431"
   ]
  },
  {
   "cell_type": "code",
   "execution_count": 2,
   "metadata": {
    "colab": {
     "base_uri": "https://localhost:8080/",
     "height": 34
    },
    "colab_type": "code",
    "id": "dbL1rMZmoOL7",
    "outputId": "e25a87d4-2d64-4353-8855-1217d7bef24c"
   },
   "outputs": [
    {
     "data": {
      "text/plain": [
       "7699408"
      ]
     },
     "execution_count": 2,
     "metadata": {},
     "output_type": "execute_result"
    }
   ],
   "source": [
    "2888*2666"
   ]
  },
  {
   "cell_type": "code",
   "execution_count": 3,
   "metadata": {
    "colab": {
     "base_uri": "https://localhost:8080/",
     "height": 34
    },
    "colab_type": "code",
    "id": "Xxc_pFLWoOL-",
    "outputId": "7875da09-5fa5-43bb-ca02-4d5e5d5bea02"
   },
   "outputs": [
    {
     "data": {
      "text/plain": [
       "75.16279069767442"
      ]
     },
     "execution_count": 3,
     "metadata": {},
     "output_type": "execute_result"
    }
   ],
   "source": [
    "3232/43\n"
   ]
  },
  {
   "cell_type": "code",
   "execution_count": 4,
   "metadata": {
    "colab": {
     "base_uri": "https://localhost:8080/",
     "height": 34
    },
    "colab_type": "code",
    "id": "P1HdvyvGoOMB",
    "outputId": "90cb8e6c-1a59-4d39-a653-cd86049aeda2"
   },
   "outputs": [
    {
     "data": {
      "text/plain": [
       "4315"
      ]
     },
     "execution_count": 4,
     "metadata": {},
     "output_type": "execute_result"
    }
   ],
   "source": [
    "73+4242"
   ]
  },
  {
   "cell_type": "code",
   "execution_count": 9,
   "metadata": {
    "colab": {
     "base_uri": "https://localhost:8080/",
     "height": 34
    },
    "colab_type": "code",
    "id": "Wzf0ijb-oOMD",
    "outputId": "06ef652e-bc0e-4842-fa17-5ebd0ab90c35"
   },
   "outputs": [
    {
     "data": {
      "text/plain": [
       "125"
      ]
     },
     "execution_count": 9,
     "metadata": {},
     "output_type": "execute_result"
    }
   ],
   "source": [
    "5**3"
   ]
  },
  {
   "cell_type": "code",
   "execution_count": 11,
   "metadata": {
    "colab": {
     "base_uri": "https://localhost:8080/",
     "height": 34
    },
    "colab_type": "code",
    "id": "pETPS-CloOMF",
    "outputId": "72fa2028-1c04-46a3-d09b-dd2053f8a941"
   },
   "outputs": [
    {
     "data": {
      "text/plain": [
       "10000"
      ]
     },
     "execution_count": 11,
     "metadata": {},
     "output_type": "execute_result"
    }
   ],
   "source": [
    "100**2"
   ]
  },
  {
   "cell_type": "code",
   "execution_count": 12,
   "metadata": {},
   "outputs": [
    {
     "data": {
      "text/plain": [
       "56.778"
      ]
     },
     "execution_count": 12,
     "metadata": {},
     "output_type": "execute_result"
    }
   ],
   "source": [
    "round(56.7777,3)"
   ]
  },
  {
   "cell_type": "code",
   "execution_count": 13,
   "metadata": {
    "colab": {},
    "colab_type": "code",
    "id": "mgGa5XLYoOMK"
   },
   "outputs": [],
   "source": [
    "import math"
   ]
  },
  {
   "cell_type": "code",
   "execution_count": 15,
   "metadata": {},
   "outputs": [
    {
     "data": {
      "text/plain": [
       "4.605170185988092"
      ]
     },
     "execution_count": 15,
     "metadata": {},
     "output_type": "execute_result"
    }
   ],
   "source": [
    "math.log(100)"
   ]
  },
  {
   "cell_type": "code",
   "execution_count": 17,
   "metadata": {},
   "outputs": [
    {
     "data": {
      "text/plain": [
       "-0.026551154023966794"
      ]
     },
     "execution_count": 17,
     "metadata": {},
     "output_type": "execute_result"
    }
   ],
   "source": [
    "math.sin(66)"
   ]
  },
  {
   "cell_type": "code",
   "execution_count": 18,
   "metadata": {},
   "outputs": [
    {
     "data": {
      "text/plain": [
       "3.141592653589793"
      ]
     },
     "execution_count": 18,
     "metadata": {},
     "output_type": "execute_result"
    }
   ],
   "source": [
    "math.pi"
   ]
  },
  {
   "cell_type": "code",
   "execution_count": 19,
   "metadata": {},
   "outputs": [
    {
     "data": {
      "text/plain": [
       "46"
      ]
     },
     "execution_count": 19,
     "metadata": {},
     "output_type": "execute_result"
    }
   ],
   "source": [
    "math.ceil(45.6)"
   ]
  },
  {
   "cell_type": "markdown",
   "metadata": {
    "colab_type": "text",
    "id": "k2GHnG6XoOMN"
   },
   "source": [
    "## Import Data:\n"
   ]
  },
  {
   "cell_type": "markdown",
   "metadata": {
    "colab_type": "text",
    "id": "TMLHrNa-oOMN"
   },
   "source": [
    "Import Library:\n",
    "\n",
    "import Pandas \n",
    "\n",
    "import pandas as pd"
   ]
  },
  {
   "cell_type": "code",
   "execution_count": 20,
   "metadata": {
    "colab": {},
    "colab_type": "code",
    "id": "sOtNNl1joOMO"
   },
   "outputs": [],
   "source": [
    "import pandas as pd"
   ]
  },
  {
   "cell_type": "code",
   "execution_count": 21,
   "metadata": {
    "colab": {},
    "colab_type": "code",
    "id": "9Nb8Z5dpoOMR"
   },
   "outputs": [],
   "source": [
    "data=pd.read_csv('https://raw.githubusercontent.com/ivailop7/Health-Data-Analysis/master/Health%20Data-daily.csv')"
   ]
  },
  {
   "cell_type": "markdown",
   "metadata": {
    "colab_type": "text",
    "id": "SDnuvPkKoOMU"
   },
   "source": [
    "To get the number of columns and rows in the dataset:"
   ]
  },
  {
   "cell_type": "code",
   "execution_count": 22,
   "metadata": {
    "colab": {
     "base_uri": "https://localhost:8080/",
     "height": 34
    },
    "colab_type": "code",
    "id": "ziQl_uKjoOMV",
    "outputId": "ea94f7e1-683c-4ee2-d010-66030fa230cd"
   },
   "outputs": [
    {
     "data": {
      "text/plain": [
       "(767, 68)"
      ]
     },
     "execution_count": 22,
     "metadata": {},
     "output_type": "execute_result"
    }
   ],
   "source": [
    "data.shape"
   ]
  },
  {
   "cell_type": "code",
   "execution_count": 23,
   "metadata": {
    "colab": {
     "base_uri": "https://localhost:8080/",
     "height": 34
    },
    "colab_type": "code",
    "id": "G-v2Py4rUW98",
    "outputId": "a769b124-111f-4954-dbb4-5ed0c5797809"
   },
   "outputs": [
    {
     "data": {
      "text/plain": [
       "(767, 68)"
      ]
     },
     "execution_count": 23,
     "metadata": {},
     "output_type": "execute_result"
    }
   ],
   "source": [
    "data.shape\n"
   ]
  },
  {
   "cell_type": "code",
   "execution_count": 25,
   "metadata": {
    "colab": {
     "base_uri": "https://localhost:8080/",
     "height": 534
    },
    "colab_type": "code",
    "id": "HtsB6tq9oOMY",
    "outputId": "30a32e58-6495-4290-c045-a6b25b3a63b1"
   },
   "outputs": [
    {
     "data": {
      "text/html": [
       "<div>\n",
       "<style scoped>\n",
       "    .dataframe tbody tr th:only-of-type {\n",
       "        vertical-align: middle;\n",
       "    }\n",
       "\n",
       "    .dataframe tbody tr th {\n",
       "        vertical-align: top;\n",
       "    }\n",
       "\n",
       "    .dataframe thead th {\n",
       "        text-align: right;\n",
       "    }\n",
       "</style>\n",
       "<table border=\"1\" class=\"dataframe\">\n",
       "  <thead>\n",
       "    <tr style=\"text-align: right;\">\n",
       "      <th></th>\n",
       "      <th>Start</th>\n",
       "      <th>Finish</th>\n",
       "      <th>Active Calories (kcal)</th>\n",
       "      <th>Biotin (mcg)</th>\n",
       "      <th>Blood Alcohol Content (%)</th>\n",
       "      <th>Blood Glucose (mg/dL)</th>\n",
       "      <th>Blood Pressure (Diastolic) (mmHg)</th>\n",
       "      <th>Blood Pressure (Systolic) (mmHg)</th>\n",
       "      <th>Body Fat Percentage (%)</th>\n",
       "      <th>Body Mass Index (count)</th>\n",
       "      <th>...</th>\n",
       "      <th>Vitamin B12 (mcg)</th>\n",
       "      <th>Vitamin B6 (mg)</th>\n",
       "      <th>Vitamin C (mg)</th>\n",
       "      <th>Vitamin D (mcg)</th>\n",
       "      <th>Vitamin E (mg)</th>\n",
       "      <th>Vitamin K (mcg)</th>\n",
       "      <th>Weight (kg)</th>\n",
       "      <th>Dietary Water (L)</th>\n",
       "      <th>Zinc (mg)</th>\n",
       "      <th>UV Exposure (count)</th>\n",
       "    </tr>\n",
       "  </thead>\n",
       "  <tbody>\n",
       "    <tr>\n",
       "      <th>0</th>\n",
       "      <td>06-Aug-2015 00:00</td>\n",
       "      <td>07-Aug-2015 00:00</td>\n",
       "      <td>0.0</td>\n",
       "      <td>0.0</td>\n",
       "      <td>0.0</td>\n",
       "      <td>79.268587</td>\n",
       "      <td>0.0</td>\n",
       "      <td>0.0</td>\n",
       "      <td>0.0</td>\n",
       "      <td>0.0</td>\n",
       "      <td>...</td>\n",
       "      <td>0.0</td>\n",
       "      <td>0.0</td>\n",
       "      <td>0.0</td>\n",
       "      <td>0.0</td>\n",
       "      <td>0.0</td>\n",
       "      <td>0.0</td>\n",
       "      <td>0.0</td>\n",
       "      <td>0.0</td>\n",
       "      <td>0.0</td>\n",
       "      <td>0.0</td>\n",
       "    </tr>\n",
       "    <tr>\n",
       "      <th>1</th>\n",
       "      <td>07-Aug-2015 00:00</td>\n",
       "      <td>08-Aug-2015 00:00</td>\n",
       "      <td>0.0</td>\n",
       "      <td>0.0</td>\n",
       "      <td>0.0</td>\n",
       "      <td>0.000000</td>\n",
       "      <td>0.0</td>\n",
       "      <td>0.0</td>\n",
       "      <td>0.0</td>\n",
       "      <td>0.0</td>\n",
       "      <td>...</td>\n",
       "      <td>0.0</td>\n",
       "      <td>0.0</td>\n",
       "      <td>0.0</td>\n",
       "      <td>0.0</td>\n",
       "      <td>0.0</td>\n",
       "      <td>0.0</td>\n",
       "      <td>0.0</td>\n",
       "      <td>0.0</td>\n",
       "      <td>0.0</td>\n",
       "      <td>0.0</td>\n",
       "    </tr>\n",
       "    <tr>\n",
       "      <th>2</th>\n",
       "      <td>08-Aug-2015 00:00</td>\n",
       "      <td>09-Aug-2015 00:00</td>\n",
       "      <td>0.0</td>\n",
       "      <td>0.0</td>\n",
       "      <td>0.0</td>\n",
       "      <td>0.000000</td>\n",
       "      <td>0.0</td>\n",
       "      <td>0.0</td>\n",
       "      <td>0.0</td>\n",
       "      <td>0.0</td>\n",
       "      <td>...</td>\n",
       "      <td>0.0</td>\n",
       "      <td>0.0</td>\n",
       "      <td>0.0</td>\n",
       "      <td>0.0</td>\n",
       "      <td>0.0</td>\n",
       "      <td>0.0</td>\n",
       "      <td>0.0</td>\n",
       "      <td>0.0</td>\n",
       "      <td>0.0</td>\n",
       "      <td>0.0</td>\n",
       "    </tr>\n",
       "    <tr>\n",
       "      <th>3</th>\n",
       "      <td>09-Aug-2015 00:00</td>\n",
       "      <td>10-Aug-2015 00:00</td>\n",
       "      <td>0.0</td>\n",
       "      <td>0.0</td>\n",
       "      <td>0.0</td>\n",
       "      <td>0.000000</td>\n",
       "      <td>0.0</td>\n",
       "      <td>0.0</td>\n",
       "      <td>0.0</td>\n",
       "      <td>0.0</td>\n",
       "      <td>...</td>\n",
       "      <td>0.0</td>\n",
       "      <td>0.0</td>\n",
       "      <td>0.0</td>\n",
       "      <td>0.0</td>\n",
       "      <td>0.0</td>\n",
       "      <td>0.0</td>\n",
       "      <td>0.0</td>\n",
       "      <td>0.0</td>\n",
       "      <td>0.0</td>\n",
       "      <td>0.0</td>\n",
       "    </tr>\n",
       "    <tr>\n",
       "      <th>4</th>\n",
       "      <td>10-Aug-2015 00:00</td>\n",
       "      <td>11-Aug-2015 00:00</td>\n",
       "      <td>0.0</td>\n",
       "      <td>0.0</td>\n",
       "      <td>0.0</td>\n",
       "      <td>0.000000</td>\n",
       "      <td>0.0</td>\n",
       "      <td>0.0</td>\n",
       "      <td>0.0</td>\n",
       "      <td>0.0</td>\n",
       "      <td>...</td>\n",
       "      <td>0.0</td>\n",
       "      <td>0.0</td>\n",
       "      <td>0.0</td>\n",
       "      <td>0.0</td>\n",
       "      <td>0.0</td>\n",
       "      <td>0.0</td>\n",
       "      <td>0.0</td>\n",
       "      <td>0.0</td>\n",
       "      <td>0.0</td>\n",
       "      <td>0.0</td>\n",
       "    </tr>\n",
       "    <tr>\n",
       "      <th>5</th>\n",
       "      <td>11-Aug-2015 00:00</td>\n",
       "      <td>12-Aug-2015 00:00</td>\n",
       "      <td>0.0</td>\n",
       "      <td>0.0</td>\n",
       "      <td>0.0</td>\n",
       "      <td>0.000000</td>\n",
       "      <td>0.0</td>\n",
       "      <td>0.0</td>\n",
       "      <td>0.0</td>\n",
       "      <td>0.0</td>\n",
       "      <td>...</td>\n",
       "      <td>0.0</td>\n",
       "      <td>0.0</td>\n",
       "      <td>0.0</td>\n",
       "      <td>0.0</td>\n",
       "      <td>0.0</td>\n",
       "      <td>0.0</td>\n",
       "      <td>0.0</td>\n",
       "      <td>0.0</td>\n",
       "      <td>0.0</td>\n",
       "      <td>0.0</td>\n",
       "    </tr>\n",
       "    <tr>\n",
       "      <th>6</th>\n",
       "      <td>12-Aug-2015 00:00</td>\n",
       "      <td>13-Aug-2015 00:00</td>\n",
       "      <td>0.0</td>\n",
       "      <td>0.0</td>\n",
       "      <td>0.0</td>\n",
       "      <td>0.000000</td>\n",
       "      <td>0.0</td>\n",
       "      <td>0.0</td>\n",
       "      <td>0.0</td>\n",
       "      <td>0.0</td>\n",
       "      <td>...</td>\n",
       "      <td>0.0</td>\n",
       "      <td>0.0</td>\n",
       "      <td>0.0</td>\n",
       "      <td>0.0</td>\n",
       "      <td>0.0</td>\n",
       "      <td>0.0</td>\n",
       "      <td>0.0</td>\n",
       "      <td>0.0</td>\n",
       "      <td>0.0</td>\n",
       "      <td>0.0</td>\n",
       "    </tr>\n",
       "  </tbody>\n",
       "</table>\n",
       "<p>7 rows × 68 columns</p>\n",
       "</div>"
      ],
      "text/plain": [
       "               Start             Finish  Active Calories (kcal)  Biotin (mcg)  \\\n",
       "0  06-Aug-2015 00:00  07-Aug-2015 00:00                     0.0           0.0   \n",
       "1  07-Aug-2015 00:00  08-Aug-2015 00:00                     0.0           0.0   \n",
       "2  08-Aug-2015 00:00  09-Aug-2015 00:00                     0.0           0.0   \n",
       "3  09-Aug-2015 00:00  10-Aug-2015 00:00                     0.0           0.0   \n",
       "4  10-Aug-2015 00:00  11-Aug-2015 00:00                     0.0           0.0   \n",
       "5  11-Aug-2015 00:00  12-Aug-2015 00:00                     0.0           0.0   \n",
       "6  12-Aug-2015 00:00  13-Aug-2015 00:00                     0.0           0.0   \n",
       "\n",
       "   Blood Alcohol Content (%)  Blood Glucose (mg/dL)  \\\n",
       "0                        0.0              79.268587   \n",
       "1                        0.0               0.000000   \n",
       "2                        0.0               0.000000   \n",
       "3                        0.0               0.000000   \n",
       "4                        0.0               0.000000   \n",
       "5                        0.0               0.000000   \n",
       "6                        0.0               0.000000   \n",
       "\n",
       "   Blood Pressure (Diastolic) (mmHg)  Blood Pressure (Systolic) (mmHg)  \\\n",
       "0                                0.0                               0.0   \n",
       "1                                0.0                               0.0   \n",
       "2                                0.0                               0.0   \n",
       "3                                0.0                               0.0   \n",
       "4                                0.0                               0.0   \n",
       "5                                0.0                               0.0   \n",
       "6                                0.0                               0.0   \n",
       "\n",
       "   Body Fat Percentage (%)  Body Mass Index (count)  ...  Vitamin B12 (mcg)  \\\n",
       "0                      0.0                      0.0  ...                0.0   \n",
       "1                      0.0                      0.0  ...                0.0   \n",
       "2                      0.0                      0.0  ...                0.0   \n",
       "3                      0.0                      0.0  ...                0.0   \n",
       "4                      0.0                      0.0  ...                0.0   \n",
       "5                      0.0                      0.0  ...                0.0   \n",
       "6                      0.0                      0.0  ...                0.0   \n",
       "\n",
       "   Vitamin B6 (mg)  Vitamin C (mg)  Vitamin D (mcg)  Vitamin E (mg)  \\\n",
       "0              0.0             0.0              0.0             0.0   \n",
       "1              0.0             0.0              0.0             0.0   \n",
       "2              0.0             0.0              0.0             0.0   \n",
       "3              0.0             0.0              0.0             0.0   \n",
       "4              0.0             0.0              0.0             0.0   \n",
       "5              0.0             0.0              0.0             0.0   \n",
       "6              0.0             0.0              0.0             0.0   \n",
       "\n",
       "   Vitamin K (mcg)  Weight (kg)  Dietary Water (L)  Zinc (mg)  \\\n",
       "0              0.0          0.0                0.0        0.0   \n",
       "1              0.0          0.0                0.0        0.0   \n",
       "2              0.0          0.0                0.0        0.0   \n",
       "3              0.0          0.0                0.0        0.0   \n",
       "4              0.0          0.0                0.0        0.0   \n",
       "5              0.0          0.0                0.0        0.0   \n",
       "6              0.0          0.0                0.0        0.0   \n",
       "\n",
       "   UV Exposure (count)  \n",
       "0                  0.0  \n",
       "1                  0.0  \n",
       "2                  0.0  \n",
       "3                  0.0  \n",
       "4                  0.0  \n",
       "5                  0.0  \n",
       "6                  0.0  \n",
       "\n",
       "[7 rows x 68 columns]"
      ]
     },
     "execution_count": 25,
     "metadata": {},
     "output_type": "execute_result"
    }
   ],
   "source": [
    "data.head(7)"
   ]
  },
  {
   "cell_type": "code",
   "execution_count": 26,
   "metadata": {
    "colab": {
     "base_uri": "https://localhost:8080/",
     "height": 534
    },
    "colab_type": "code",
    "id": "PYDRxSnSoOMa",
    "outputId": "c227db33-2027-490b-93bb-e3e96b398ded"
   },
   "outputs": [
    {
     "data": {
      "text/html": [
       "<div>\n",
       "<style scoped>\n",
       "    .dataframe tbody tr th:only-of-type {\n",
       "        vertical-align: middle;\n",
       "    }\n",
       "\n",
       "    .dataframe tbody tr th {\n",
       "        vertical-align: top;\n",
       "    }\n",
       "\n",
       "    .dataframe thead th {\n",
       "        text-align: right;\n",
       "    }\n",
       "</style>\n",
       "<table border=\"1\" class=\"dataframe\">\n",
       "  <thead>\n",
       "    <tr style=\"text-align: right;\">\n",
       "      <th></th>\n",
       "      <th>Start</th>\n",
       "      <th>Finish</th>\n",
       "      <th>Active Calories (kcal)</th>\n",
       "      <th>Biotin (mcg)</th>\n",
       "      <th>Blood Alcohol Content (%)</th>\n",
       "      <th>Blood Glucose (mg/dL)</th>\n",
       "      <th>Blood Pressure (Diastolic) (mmHg)</th>\n",
       "      <th>Blood Pressure (Systolic) (mmHg)</th>\n",
       "      <th>Body Fat Percentage (%)</th>\n",
       "      <th>Body Mass Index (count)</th>\n",
       "      <th>...</th>\n",
       "      <th>Vitamin B12 (mcg)</th>\n",
       "      <th>Vitamin B6 (mg)</th>\n",
       "      <th>Vitamin C (mg)</th>\n",
       "      <th>Vitamin D (mcg)</th>\n",
       "      <th>Vitamin E (mg)</th>\n",
       "      <th>Vitamin K (mcg)</th>\n",
       "      <th>Weight (kg)</th>\n",
       "      <th>Dietary Water (L)</th>\n",
       "      <th>Zinc (mg)</th>\n",
       "      <th>UV Exposure (count)</th>\n",
       "    </tr>\n",
       "  </thead>\n",
       "  <tbody>\n",
       "    <tr>\n",
       "      <th>762</th>\n",
       "      <td>06-Sep-2017 00:00</td>\n",
       "      <td>07-Sep-2017 00:00</td>\n",
       "      <td>416.007722</td>\n",
       "      <td>0.0</td>\n",
       "      <td>0.0</td>\n",
       "      <td>0.0</td>\n",
       "      <td>0.0</td>\n",
       "      <td>0.0</td>\n",
       "      <td>0.00</td>\n",
       "      <td>0.0</td>\n",
       "      <td>...</td>\n",
       "      <td>0.0</td>\n",
       "      <td>0.0</td>\n",
       "      <td>0.0</td>\n",
       "      <td>0.0</td>\n",
       "      <td>0.0</td>\n",
       "      <td>0.0</td>\n",
       "      <td>0.00</td>\n",
       "      <td>0.0</td>\n",
       "      <td>0.0</td>\n",
       "      <td>0.0</td>\n",
       "    </tr>\n",
       "    <tr>\n",
       "      <th>763</th>\n",
       "      <td>07-Sep-2017 00:00</td>\n",
       "      <td>08-Sep-2017 00:00</td>\n",
       "      <td>657.412282</td>\n",
       "      <td>0.0</td>\n",
       "      <td>0.0</td>\n",
       "      <td>0.0</td>\n",
       "      <td>0.0</td>\n",
       "      <td>0.0</td>\n",
       "      <td>0.12</td>\n",
       "      <td>18.6</td>\n",
       "      <td>...</td>\n",
       "      <td>0.0</td>\n",
       "      <td>0.0</td>\n",
       "      <td>0.0</td>\n",
       "      <td>0.0</td>\n",
       "      <td>0.0</td>\n",
       "      <td>0.0</td>\n",
       "      <td>58.35</td>\n",
       "      <td>0.0</td>\n",
       "      <td>0.0</td>\n",
       "      <td>0.0</td>\n",
       "    </tr>\n",
       "    <tr>\n",
       "      <th>764</th>\n",
       "      <td>08-Sep-2017 00:00</td>\n",
       "      <td>09-Sep-2017 00:00</td>\n",
       "      <td>332.833916</td>\n",
       "      <td>0.0</td>\n",
       "      <td>0.0</td>\n",
       "      <td>0.0</td>\n",
       "      <td>0.0</td>\n",
       "      <td>0.0</td>\n",
       "      <td>0.00</td>\n",
       "      <td>0.0</td>\n",
       "      <td>...</td>\n",
       "      <td>0.0</td>\n",
       "      <td>0.0</td>\n",
       "      <td>0.0</td>\n",
       "      <td>0.0</td>\n",
       "      <td>0.0</td>\n",
       "      <td>0.0</td>\n",
       "      <td>0.00</td>\n",
       "      <td>0.0</td>\n",
       "      <td>0.0</td>\n",
       "      <td>0.0</td>\n",
       "    </tr>\n",
       "    <tr>\n",
       "      <th>765</th>\n",
       "      <td>09-Sep-2017 00:00</td>\n",
       "      <td>10-Sep-2017 00:00</td>\n",
       "      <td>429.742219</td>\n",
       "      <td>0.0</td>\n",
       "      <td>0.0</td>\n",
       "      <td>0.0</td>\n",
       "      <td>0.0</td>\n",
       "      <td>0.0</td>\n",
       "      <td>0.00</td>\n",
       "      <td>0.0</td>\n",
       "      <td>...</td>\n",
       "      <td>0.0</td>\n",
       "      <td>0.0</td>\n",
       "      <td>0.0</td>\n",
       "      <td>0.0</td>\n",
       "      <td>0.0</td>\n",
       "      <td>0.0</td>\n",
       "      <td>0.00</td>\n",
       "      <td>0.0</td>\n",
       "      <td>0.0</td>\n",
       "      <td>0.0</td>\n",
       "    </tr>\n",
       "    <tr>\n",
       "      <th>766</th>\n",
       "      <td>10-Sep-2017 00:00</td>\n",
       "      <td>11-Sep-2017 00:00</td>\n",
       "      <td>309.694532</td>\n",
       "      <td>0.0</td>\n",
       "      <td>0.0</td>\n",
       "      <td>0.0</td>\n",
       "      <td>0.0</td>\n",
       "      <td>0.0</td>\n",
       "      <td>0.00</td>\n",
       "      <td>0.0</td>\n",
       "      <td>...</td>\n",
       "      <td>0.0</td>\n",
       "      <td>0.0</td>\n",
       "      <td>0.0</td>\n",
       "      <td>0.0</td>\n",
       "      <td>0.0</td>\n",
       "      <td>0.0</td>\n",
       "      <td>0.00</td>\n",
       "      <td>0.0</td>\n",
       "      <td>0.0</td>\n",
       "      <td>0.0</td>\n",
       "    </tr>\n",
       "  </tbody>\n",
       "</table>\n",
       "<p>5 rows × 68 columns</p>\n",
       "</div>"
      ],
      "text/plain": [
       "                 Start             Finish  Active Calories (kcal)  \\\n",
       "762  06-Sep-2017 00:00  07-Sep-2017 00:00              416.007722   \n",
       "763  07-Sep-2017 00:00  08-Sep-2017 00:00              657.412282   \n",
       "764  08-Sep-2017 00:00  09-Sep-2017 00:00              332.833916   \n",
       "765  09-Sep-2017 00:00  10-Sep-2017 00:00              429.742219   \n",
       "766  10-Sep-2017 00:00  11-Sep-2017 00:00              309.694532   \n",
       "\n",
       "     Biotin (mcg)  Blood Alcohol Content (%)  Blood Glucose (mg/dL)  \\\n",
       "762           0.0                        0.0                    0.0   \n",
       "763           0.0                        0.0                    0.0   \n",
       "764           0.0                        0.0                    0.0   \n",
       "765           0.0                        0.0                    0.0   \n",
       "766           0.0                        0.0                    0.0   \n",
       "\n",
       "     Blood Pressure (Diastolic) (mmHg)  Blood Pressure (Systolic) (mmHg)  \\\n",
       "762                                0.0                               0.0   \n",
       "763                                0.0                               0.0   \n",
       "764                                0.0                               0.0   \n",
       "765                                0.0                               0.0   \n",
       "766                                0.0                               0.0   \n",
       "\n",
       "     Body Fat Percentage (%)  Body Mass Index (count)  ...  Vitamin B12 (mcg)  \\\n",
       "762                     0.00                      0.0  ...                0.0   \n",
       "763                     0.12                     18.6  ...                0.0   \n",
       "764                     0.00                      0.0  ...                0.0   \n",
       "765                     0.00                      0.0  ...                0.0   \n",
       "766                     0.00                      0.0  ...                0.0   \n",
       "\n",
       "     Vitamin B6 (mg)  Vitamin C (mg)  Vitamin D (mcg)  Vitamin E (mg)  \\\n",
       "762              0.0             0.0              0.0             0.0   \n",
       "763              0.0             0.0              0.0             0.0   \n",
       "764              0.0             0.0              0.0             0.0   \n",
       "765              0.0             0.0              0.0             0.0   \n",
       "766              0.0             0.0              0.0             0.0   \n",
       "\n",
       "     Vitamin K (mcg)  Weight (kg)  Dietary Water (L)  Zinc (mg)  \\\n",
       "762              0.0         0.00                0.0        0.0   \n",
       "763              0.0        58.35                0.0        0.0   \n",
       "764              0.0         0.00                0.0        0.0   \n",
       "765              0.0         0.00                0.0        0.0   \n",
       "766              0.0         0.00                0.0        0.0   \n",
       "\n",
       "     UV Exposure (count)  \n",
       "762                  0.0  \n",
       "763                  0.0  \n",
       "764                  0.0  \n",
       "765                  0.0  \n",
       "766                  0.0  \n",
       "\n",
       "[5 rows x 68 columns]"
      ]
     },
     "execution_count": 26,
     "metadata": {},
     "output_type": "execute_result"
    }
   ],
   "source": [
    "data.tail()"
   ]
  },
  {
   "cell_type": "markdown",
   "metadata": {
    "colab_type": "text",
    "id": "MpqtMVmqoOMd"
   },
   "source": [
    "To see the column headers or variables in the dataset:"
   ]
  },
  {
   "cell_type": "code",
   "execution_count": 27,
   "metadata": {
    "colab": {
     "base_uri": "https://localhost:8080/",
     "height": 454
    },
    "colab_type": "code",
    "id": "xpjJIQOQoOMi",
    "outputId": "017e5d2d-df73-421c-d585-6c936d69b0a4"
   },
   "outputs": [
    {
     "data": {
      "text/plain": [
       "Index(['Start', 'Finish', 'Active Calories (kcal)', 'Biotin (mcg)',\n",
       "       'Blood Alcohol Content (%)', 'Blood Glucose (mg/dL)',\n",
       "       'Blood Pressure (Diastolic) (mmHg)', 'Blood Pressure (Systolic) (mmHg)',\n",
       "       'Body Fat Percentage (%)', 'Body Mass Index (count)',\n",
       "       'Body Temperature (degC)', 'Basal Body Temperature (degC)',\n",
       "       'Caffeine (mg)', 'Calcium (mg)', 'Carbohydrates (mg)', 'Chloride (mg)',\n",
       "       'Cholesterol (mg)', 'Chromium (mcg)', 'Copper (mcg)',\n",
       "       'Cycling Distance (mi)', 'Dietary Calories (cal)', 'Distance (km)',\n",
       "       'Electrodermal Activity (mcS)', 'Fiber (g)', 'Flights Climbed (count)',\n",
       "       'Folate (mcg)', 'Forced Expiratory Volume (L)',\n",
       "       'Forced Vital Capacity (L)', 'Heart Rate (count/min)',\n",
       "       'Inhaler Usage (count)', 'Iodine (mcg)', 'Lean Body Mass (kg)',\n",
       "       'Magnesium (mg)', 'Manganese (mg)', 'Molybdenum (mcg)',\n",
       "       'Monosaturated Fat (g)', 'Niacin (mg)', 'NikeFuel (count)',\n",
       "       'Number of Times Fallen (count)', 'Oxygen Saturation (%)',\n",
       "       'Pantothenic Acid (mg)', 'Peak Expiratory Flow Rate (L/min)',\n",
       "       'Peripheral Perfusion Index (%)', 'Phosphorus (mg)',\n",
       "       'Polyunsaturated Fat (g)', 'Potassium (mg)', 'Protein (g)',\n",
       "       'Respiratory Rate (count/min)', 'Resting Calories (kcal)',\n",
       "       'Riboflavin (mg)', 'Saturated Fat (g)', 'Selenium (mcg)', 'Sodium (mg)',\n",
       "       'Steps (count)', 'Sugar (g)', 'Thiamin (mg)', 'Total Fat (g)',\n",
       "       'Vitamin A (mcg)', 'Vitamin B12 (mcg)', 'Vitamin B6 (mg)',\n",
       "       'Vitamin C (mg)', 'Vitamin D (mcg)', 'Vitamin E (mg)',\n",
       "       'Vitamin K (mcg)', 'Weight (kg)', 'Dietary Water (L)', 'Zinc (mg)',\n",
       "       'UV Exposure (count)'],\n",
       "      dtype='object')"
      ]
     },
     "execution_count": 27,
     "metadata": {},
     "output_type": "execute_result"
    }
   ],
   "source": [
    "data.columns\n"
   ]
  },
  {
   "cell_type": "code",
   "execution_count": 28,
   "metadata": {
    "colab": {
     "base_uri": "https://localhost:8080/",
     "height": 371
    },
    "colab_type": "code",
    "id": "Mfwm_3Q_oOMl",
    "outputId": "0b27b4d3-d7b9-4379-cfdd-e208872a833a"
   },
   "outputs": [
    {
     "data": {
      "text/html": [
       "<div>\n",
       "<style scoped>\n",
       "    .dataframe tbody tr th:only-of-type {\n",
       "        vertical-align: middle;\n",
       "    }\n",
       "\n",
       "    .dataframe tbody tr th {\n",
       "        vertical-align: top;\n",
       "    }\n",
       "\n",
       "    .dataframe thead th {\n",
       "        text-align: right;\n",
       "    }\n",
       "</style>\n",
       "<table border=\"1\" class=\"dataframe\">\n",
       "  <thead>\n",
       "    <tr style=\"text-align: right;\">\n",
       "      <th></th>\n",
       "      <th>Active Calories (kcal)</th>\n",
       "      <th>Biotin (mcg)</th>\n",
       "      <th>Blood Alcohol Content (%)</th>\n",
       "      <th>Blood Glucose (mg/dL)</th>\n",
       "      <th>Blood Pressure (Diastolic) (mmHg)</th>\n",
       "      <th>Blood Pressure (Systolic) (mmHg)</th>\n",
       "      <th>Body Fat Percentage (%)</th>\n",
       "      <th>Body Mass Index (count)</th>\n",
       "      <th>Body Temperature (degC)</th>\n",
       "      <th>Basal Body Temperature (degC)</th>\n",
       "      <th>...</th>\n",
       "      <th>Vitamin B12 (mcg)</th>\n",
       "      <th>Vitamin B6 (mg)</th>\n",
       "      <th>Vitamin C (mg)</th>\n",
       "      <th>Vitamin D (mcg)</th>\n",
       "      <th>Vitamin E (mg)</th>\n",
       "      <th>Vitamin K (mcg)</th>\n",
       "      <th>Weight (kg)</th>\n",
       "      <th>Dietary Water (L)</th>\n",
       "      <th>Zinc (mg)</th>\n",
       "      <th>UV Exposure (count)</th>\n",
       "    </tr>\n",
       "  </thead>\n",
       "  <tbody>\n",
       "    <tr>\n",
       "      <th>count</th>\n",
       "      <td>767.000000</td>\n",
       "      <td>767.0</td>\n",
       "      <td>767.0</td>\n",
       "      <td>767.000000</td>\n",
       "      <td>767.000000</td>\n",
       "      <td>767.000000</td>\n",
       "      <td>767.000000</td>\n",
       "      <td>767.000000</td>\n",
       "      <td>767.0</td>\n",
       "      <td>767.0</td>\n",
       "      <td>...</td>\n",
       "      <td>767.0</td>\n",
       "      <td>767.0</td>\n",
       "      <td>767.0</td>\n",
       "      <td>767.0</td>\n",
       "      <td>767.0</td>\n",
       "      <td>767.0</td>\n",
       "      <td>767.000000</td>\n",
       "      <td>767.0</td>\n",
       "      <td>767.0</td>\n",
       "      <td>767.0</td>\n",
       "    </tr>\n",
       "    <tr>\n",
       "      <th>mean</th>\n",
       "      <td>346.623511</td>\n",
       "      <td>0.0</td>\n",
       "      <td>0.0</td>\n",
       "      <td>0.216093</td>\n",
       "      <td>0.912647</td>\n",
       "      <td>1.516297</td>\n",
       "      <td>0.016415</td>\n",
       "      <td>2.660235</td>\n",
       "      <td>0.0</td>\n",
       "      <td>0.0</td>\n",
       "      <td>...</td>\n",
       "      <td>0.0</td>\n",
       "      <td>0.0</td>\n",
       "      <td>0.0</td>\n",
       "      <td>0.0</td>\n",
       "      <td>0.0</td>\n",
       "      <td>0.0</td>\n",
       "      <td>8.273077</td>\n",
       "      <td>0.0</td>\n",
       "      <td>0.0</td>\n",
       "      <td>0.0</td>\n",
       "    </tr>\n",
       "    <tr>\n",
       "      <th>std</th>\n",
       "      <td>444.076546</td>\n",
       "      <td>0.0</td>\n",
       "      <td>0.0</td>\n",
       "      <td>4.233028</td>\n",
       "      <td>7.993400</td>\n",
       "      <td>13.237120</td>\n",
       "      <td>0.041409</td>\n",
       "      <td>6.439400</td>\n",
       "      <td>0.0</td>\n",
       "      <td>0.0</td>\n",
       "      <td>...</td>\n",
       "      <td>0.0</td>\n",
       "      <td>0.0</td>\n",
       "      <td>0.0</td>\n",
       "      <td>0.0</td>\n",
       "      <td>0.0</td>\n",
       "      <td>0.0</td>\n",
       "      <td>20.028158</td>\n",
       "      <td>0.0</td>\n",
       "      <td>0.0</td>\n",
       "      <td>0.0</td>\n",
       "    </tr>\n",
       "    <tr>\n",
       "      <th>min</th>\n",
       "      <td>0.000000</td>\n",
       "      <td>0.0</td>\n",
       "      <td>0.0</td>\n",
       "      <td>0.000000</td>\n",
       "      <td>0.000000</td>\n",
       "      <td>0.000000</td>\n",
       "      <td>0.000000</td>\n",
       "      <td>0.000000</td>\n",
       "      <td>0.0</td>\n",
       "      <td>0.0</td>\n",
       "      <td>...</td>\n",
       "      <td>0.0</td>\n",
       "      <td>0.0</td>\n",
       "      <td>0.0</td>\n",
       "      <td>0.0</td>\n",
       "      <td>0.0</td>\n",
       "      <td>0.0</td>\n",
       "      <td>0.000000</td>\n",
       "      <td>0.0</td>\n",
       "      <td>0.0</td>\n",
       "      <td>0.0</td>\n",
       "    </tr>\n",
       "    <tr>\n",
       "      <th>25%</th>\n",
       "      <td>0.000000</td>\n",
       "      <td>0.0</td>\n",
       "      <td>0.0</td>\n",
       "      <td>0.000000</td>\n",
       "      <td>0.000000</td>\n",
       "      <td>0.000000</td>\n",
       "      <td>0.000000</td>\n",
       "      <td>0.000000</td>\n",
       "      <td>0.0</td>\n",
       "      <td>0.0</td>\n",
       "      <td>...</td>\n",
       "      <td>0.0</td>\n",
       "      <td>0.0</td>\n",
       "      <td>0.0</td>\n",
       "      <td>0.0</td>\n",
       "      <td>0.0</td>\n",
       "      <td>0.0</td>\n",
       "      <td>0.000000</td>\n",
       "      <td>0.0</td>\n",
       "      <td>0.0</td>\n",
       "      <td>0.0</td>\n",
       "    </tr>\n",
       "    <tr>\n",
       "      <th>50%</th>\n",
       "      <td>298.000000</td>\n",
       "      <td>0.0</td>\n",
       "      <td>0.0</td>\n",
       "      <td>0.000000</td>\n",
       "      <td>0.000000</td>\n",
       "      <td>0.000000</td>\n",
       "      <td>0.000000</td>\n",
       "      <td>0.000000</td>\n",
       "      <td>0.0</td>\n",
       "      <td>0.0</td>\n",
       "      <td>...</td>\n",
       "      <td>0.0</td>\n",
       "      <td>0.0</td>\n",
       "      <td>0.0</td>\n",
       "      <td>0.0</td>\n",
       "      <td>0.0</td>\n",
       "      <td>0.0</td>\n",
       "      <td>0.000000</td>\n",
       "      <td>0.0</td>\n",
       "      <td>0.0</td>\n",
       "      <td>0.0</td>\n",
       "    </tr>\n",
       "    <tr>\n",
       "      <th>75%</th>\n",
       "      <td>441.043397</td>\n",
       "      <td>0.0</td>\n",
       "      <td>0.0</td>\n",
       "      <td>0.000000</td>\n",
       "      <td>0.000000</td>\n",
       "      <td>0.000000</td>\n",
       "      <td>0.000000</td>\n",
       "      <td>0.000000</td>\n",
       "      <td>0.0</td>\n",
       "      <td>0.0</td>\n",
       "      <td>...</td>\n",
       "      <td>0.0</td>\n",
       "      <td>0.0</td>\n",
       "      <td>0.0</td>\n",
       "      <td>0.0</td>\n",
       "      <td>0.0</td>\n",
       "      <td>0.0</td>\n",
       "      <td>0.000000</td>\n",
       "      <td>0.0</td>\n",
       "      <td>0.0</td>\n",
       "      <td>0.0</td>\n",
       "    </tr>\n",
       "    <tr>\n",
       "      <th>max</th>\n",
       "      <td>4100.000000</td>\n",
       "      <td>0.0</td>\n",
       "      <td>0.0</td>\n",
       "      <td>86.474822</td>\n",
       "      <td>80.000000</td>\n",
       "      <td>125.000000</td>\n",
       "      <td>0.143000</td>\n",
       "      <td>19.200000</td>\n",
       "      <td>0.0</td>\n",
       "      <td>0.0</td>\n",
       "      <td>...</td>\n",
       "      <td>0.0</td>\n",
       "      <td>0.0</td>\n",
       "      <td>0.0</td>\n",
       "      <td>0.0</td>\n",
       "      <td>0.0</td>\n",
       "      <td>0.0</td>\n",
       "      <td>60.150000</td>\n",
       "      <td>0.0</td>\n",
       "      <td>0.0</td>\n",
       "      <td>0.0</td>\n",
       "    </tr>\n",
       "  </tbody>\n",
       "</table>\n",
       "<p>8 rows × 66 columns</p>\n",
       "</div>"
      ],
      "text/plain": [
       "       Active Calories (kcal)  Biotin (mcg)  Blood Alcohol Content (%)  \\\n",
       "count              767.000000         767.0                      767.0   \n",
       "mean               346.623511           0.0                        0.0   \n",
       "std                444.076546           0.0                        0.0   \n",
       "min                  0.000000           0.0                        0.0   \n",
       "25%                  0.000000           0.0                        0.0   \n",
       "50%                298.000000           0.0                        0.0   \n",
       "75%                441.043397           0.0                        0.0   \n",
       "max               4100.000000           0.0                        0.0   \n",
       "\n",
       "       Blood Glucose (mg/dL)  Blood Pressure (Diastolic) (mmHg)  \\\n",
       "count             767.000000                         767.000000   \n",
       "mean                0.216093                           0.912647   \n",
       "std                 4.233028                           7.993400   \n",
       "min                 0.000000                           0.000000   \n",
       "25%                 0.000000                           0.000000   \n",
       "50%                 0.000000                           0.000000   \n",
       "75%                 0.000000                           0.000000   \n",
       "max                86.474822                          80.000000   \n",
       "\n",
       "       Blood Pressure (Systolic) (mmHg)  Body Fat Percentage (%)  \\\n",
       "count                        767.000000               767.000000   \n",
       "mean                           1.516297                 0.016415   \n",
       "std                           13.237120                 0.041409   \n",
       "min                            0.000000                 0.000000   \n",
       "25%                            0.000000                 0.000000   \n",
       "50%                            0.000000                 0.000000   \n",
       "75%                            0.000000                 0.000000   \n",
       "max                          125.000000                 0.143000   \n",
       "\n",
       "       Body Mass Index (count)  Body Temperature (degC)  \\\n",
       "count               767.000000                    767.0   \n",
       "mean                  2.660235                      0.0   \n",
       "std                   6.439400                      0.0   \n",
       "min                   0.000000                      0.0   \n",
       "25%                   0.000000                      0.0   \n",
       "50%                   0.000000                      0.0   \n",
       "75%                   0.000000                      0.0   \n",
       "max                  19.200000                      0.0   \n",
       "\n",
       "       Basal Body Temperature (degC)  ...  Vitamin B12 (mcg)  Vitamin B6 (mg)  \\\n",
       "count                          767.0  ...              767.0            767.0   \n",
       "mean                             0.0  ...                0.0              0.0   \n",
       "std                              0.0  ...                0.0              0.0   \n",
       "min                              0.0  ...                0.0              0.0   \n",
       "25%                              0.0  ...                0.0              0.0   \n",
       "50%                              0.0  ...                0.0              0.0   \n",
       "75%                              0.0  ...                0.0              0.0   \n",
       "max                              0.0  ...                0.0              0.0   \n",
       "\n",
       "       Vitamin C (mg)  Vitamin D (mcg)  Vitamin E (mg)  Vitamin K (mcg)  \\\n",
       "count           767.0            767.0           767.0            767.0   \n",
       "mean              0.0              0.0             0.0              0.0   \n",
       "std               0.0              0.0             0.0              0.0   \n",
       "min               0.0              0.0             0.0              0.0   \n",
       "25%               0.0              0.0             0.0              0.0   \n",
       "50%               0.0              0.0             0.0              0.0   \n",
       "75%               0.0              0.0             0.0              0.0   \n",
       "max               0.0              0.0             0.0              0.0   \n",
       "\n",
       "       Weight (kg)  Dietary Water (L)  Zinc (mg)  UV Exposure (count)  \n",
       "count   767.000000              767.0      767.0                767.0  \n",
       "mean      8.273077                0.0        0.0                  0.0  \n",
       "std      20.028158                0.0        0.0                  0.0  \n",
       "min       0.000000                0.0        0.0                  0.0  \n",
       "25%       0.000000                0.0        0.0                  0.0  \n",
       "50%       0.000000                0.0        0.0                  0.0  \n",
       "75%       0.000000                0.0        0.0                  0.0  \n",
       "max      60.150000                0.0        0.0                  0.0  \n",
       "\n",
       "[8 rows x 66 columns]"
      ]
     },
     "execution_count": 28,
     "metadata": {},
     "output_type": "execute_result"
    }
   ],
   "source": [
    "data.describe()"
   ]
  },
  {
   "cell_type": "code",
   "execution_count": 29,
   "metadata": {
    "colab": {
     "base_uri": "https://localhost:8080/",
     "height": 1000
    },
    "colab_type": "code",
    "id": "Pd6f-ftuVM-i",
    "outputId": "f588269e-6858-4bb8-e783-e0c52bcd7bee"
   },
   "outputs": [
    {
     "name": "stdout",
     "output_type": "stream",
     "text": [
      "<class 'pandas.core.frame.DataFrame'>\n",
      "RangeIndex: 767 entries, 0 to 766\n",
      "Data columns (total 68 columns):\n",
      " #   Column                             Non-Null Count  Dtype  \n",
      "---  ------                             --------------  -----  \n",
      " 0   Start                              767 non-null    object \n",
      " 1   Finish                             767 non-null    object \n",
      " 2   Active Calories (kcal)             767 non-null    float64\n",
      " 3   Biotin (mcg)                       767 non-null    float64\n",
      " 4   Blood Alcohol Content (%)          767 non-null    float64\n",
      " 5   Blood Glucose (mg/dL)              767 non-null    float64\n",
      " 6   Blood Pressure (Diastolic) (mmHg)  767 non-null    float64\n",
      " 7   Blood Pressure (Systolic) (mmHg)   767 non-null    float64\n",
      " 8   Body Fat Percentage (%)            767 non-null    float64\n",
      " 9   Body Mass Index (count)            767 non-null    float64\n",
      " 10  Body Temperature (degC)            767 non-null    float64\n",
      " 11  Basal Body Temperature (degC)      767 non-null    float64\n",
      " 12  Caffeine (mg)                      767 non-null    float64\n",
      " 13  Calcium (mg)                       767 non-null    float64\n",
      " 14  Carbohydrates (mg)                 767 non-null    float64\n",
      " 15  Chloride (mg)                      767 non-null    float64\n",
      " 16  Cholesterol (mg)                   767 non-null    float64\n",
      " 17  Chromium (mcg)                     767 non-null    float64\n",
      " 18  Copper (mcg)                       767 non-null    float64\n",
      " 19  Cycling Distance (mi)              767 non-null    float64\n",
      " 20  Dietary Calories (cal)             767 non-null    float64\n",
      " 21  Distance (km)                      767 non-null    float64\n",
      " 22  Electrodermal Activity (mcS)       767 non-null    float64\n",
      " 23  Fiber (g)                          767 non-null    float64\n",
      " 24  Flights Climbed (count)            767 non-null    float64\n",
      " 25  Folate (mcg)                       767 non-null    float64\n",
      " 26  Forced Expiratory Volume (L)       767 non-null    float64\n",
      " 27  Forced Vital Capacity (L)          767 non-null    float64\n",
      " 28  Heart Rate (count/min)             767 non-null    float64\n",
      " 29  Inhaler Usage (count)              767 non-null    float64\n",
      " 30  Iodine (mcg)                       767 non-null    float64\n",
      " 31  Lean Body Mass (kg)                767 non-null    float64\n",
      " 32  Magnesium (mg)                     767 non-null    float64\n",
      " 33  Manganese (mg)                     767 non-null    float64\n",
      " 34  Molybdenum (mcg)                   767 non-null    float64\n",
      " 35  Monosaturated Fat (g)              767 non-null    float64\n",
      " 36  Niacin (mg)                        767 non-null    float64\n",
      " 37  NikeFuel (count)                   767 non-null    float64\n",
      " 38  Number of Times Fallen (count)     767 non-null    float64\n",
      " 39  Oxygen Saturation (%)              767 non-null    float64\n",
      " 40  Pantothenic Acid (mg)              767 non-null    float64\n",
      " 41  Peak Expiratory Flow Rate (L/min)  767 non-null    float64\n",
      " 42  Peripheral Perfusion Index (%)     767 non-null    float64\n",
      " 43  Phosphorus (mg)                    767 non-null    float64\n",
      " 44  Polyunsaturated Fat (g)            767 non-null    float64\n",
      " 45  Potassium (mg)                     767 non-null    float64\n",
      " 46  Protein (g)                        767 non-null    float64\n",
      " 47  Respiratory Rate (count/min)       767 non-null    float64\n",
      " 48  Resting Calories (kcal)            767 non-null    float64\n",
      " 49  Riboflavin (mg)                    767 non-null    float64\n",
      " 50  Saturated Fat (g)                  767 non-null    float64\n",
      " 51  Selenium (mcg)                     767 non-null    float64\n",
      " 52  Sodium (mg)                        767 non-null    float64\n",
      " 53  Steps (count)                      767 non-null    float64\n",
      " 54  Sugar (g)                          767 non-null    float64\n",
      " 55  Thiamin (mg)                       767 non-null    float64\n",
      " 56  Total Fat (g)                      767 non-null    float64\n",
      " 57  Vitamin A (mcg)                    767 non-null    float64\n",
      " 58  Vitamin B12 (mcg)                  767 non-null    float64\n",
      " 59  Vitamin B6 (mg)                    767 non-null    float64\n",
      " 60  Vitamin C (mg)                     767 non-null    float64\n",
      " 61  Vitamin D (mcg)                    767 non-null    float64\n",
      " 62  Vitamin E (mg)                     767 non-null    float64\n",
      " 63  Vitamin K (mcg)                    767 non-null    float64\n",
      " 64  Weight (kg)                        767 non-null    float64\n",
      " 65  Dietary Water (L)                  767 non-null    float64\n",
      " 66  Zinc (mg)                          767 non-null    float64\n",
      " 67  UV Exposure (count)                767 non-null    float64\n",
      "dtypes: float64(66), object(2)\n",
      "memory usage: 407.6+ KB\n"
     ]
    }
   ],
   "source": [
    "data.info()"
   ]
  },
  {
   "cell_type": "markdown",
   "metadata": {
    "colab_type": "text",
    "id": "yQ4-pKGTo7t8"
   },
   "source": [
    "## IMPORTING DATA FROM LOCAL DRIVE"
   ]
  },
  {
   "cell_type": "code",
   "execution_count": 33,
   "metadata": {},
   "outputs": [],
   "source": [
    "import pandas as pd\n",
    "dt=pd.read_csv(\"Stud_data.csv\")"
   ]
  },
  {
   "cell_type": "code",
   "execution_count": 34,
   "metadata": {
    "colab": {
     "base_uri": "https://localhost:8080/",
     "height": 195
    },
    "colab_type": "code",
    "id": "8a0ol_nVqO32",
    "outputId": "c6541eef-c323-4834-edbe-1c3cd4119168"
   },
   "outputs": [
    {
     "data": {
      "text/html": [
       "<div>\n",
       "<style scoped>\n",
       "    .dataframe tbody tr th:only-of-type {\n",
       "        vertical-align: middle;\n",
       "    }\n",
       "\n",
       "    .dataframe tbody tr th {\n",
       "        vertical-align: top;\n",
       "    }\n",
       "\n",
       "    .dataframe thead th {\n",
       "        text-align: right;\n",
       "    }\n",
       "</style>\n",
       "<table border=\"1\" class=\"dataframe\">\n",
       "  <thead>\n",
       "    <tr style=\"text-align: right;\">\n",
       "      <th></th>\n",
       "      <th>Stud_id</th>\n",
       "      <th>Gender</th>\n",
       "      <th>Dept</th>\n",
       "      <th>Attendance</th>\n",
       "      <th>SemMarks</th>\n",
       "      <th>Name</th>\n",
       "      <th>Unnamed: 6</th>\n",
       "    </tr>\n",
       "  </thead>\n",
       "  <tbody>\n",
       "    <tr>\n",
       "      <th>0</th>\n",
       "      <td>M197</td>\n",
       "      <td>Female</td>\n",
       "      <td>Science</td>\n",
       "      <td>63.0</td>\n",
       "      <td>475.0</td>\n",
       "      <td>Ritu</td>\n",
       "      <td>NaN</td>\n",
       "    </tr>\n",
       "    <tr>\n",
       "      <th>1</th>\n",
       "      <td>M181</td>\n",
       "      <td>Male</td>\n",
       "      <td>Commerce</td>\n",
       "      <td>86.0</td>\n",
       "      <td>303.0</td>\n",
       "      <td>Victor</td>\n",
       "      <td>NaN</td>\n",
       "    </tr>\n",
       "    <tr>\n",
       "      <th>2</th>\n",
       "      <td>S137</td>\n",
       "      <td>Female</td>\n",
       "      <td>Commerce</td>\n",
       "      <td>79.0</td>\n",
       "      <td>587.0</td>\n",
       "      <td>Daven</td>\n",
       "      <td>NaN</td>\n",
       "    </tr>\n",
       "    <tr>\n",
       "      <th>3</th>\n",
       "      <td>M193</td>\n",
       "      <td>Male</td>\n",
       "      <td>Commerce</td>\n",
       "      <td>47.0</td>\n",
       "      <td>403.0</td>\n",
       "      <td>Fernado</td>\n",
       "      <td>NaN</td>\n",
       "    </tr>\n",
       "    <tr>\n",
       "      <th>4</th>\n",
       "      <td>C166</td>\n",
       "      <td>Female</td>\n",
       "      <td>Science</td>\n",
       "      <td>59.0</td>\n",
       "      <td>461.0</td>\n",
       "      <td>Rose</td>\n",
       "      <td>NaN</td>\n",
       "    </tr>\n",
       "  </tbody>\n",
       "</table>\n",
       "</div>"
      ],
      "text/plain": [
       "  Stud_id  Gender      Dept  Attendance  SemMarks     Name  Unnamed: 6\n",
       "0    M197  Female   Science        63.0     475.0     Ritu         NaN\n",
       "1    M181    Male  Commerce        86.0     303.0   Victor         NaN\n",
       "2    S137  Female  Commerce        79.0     587.0    Daven         NaN\n",
       "3    M193    Male  Commerce        47.0     403.0  Fernado         NaN\n",
       "4    C166  Female   Science        59.0     461.0     Rose         NaN"
      ]
     },
     "execution_count": 34,
     "metadata": {},
     "output_type": "execute_result"
    }
   ],
   "source": [
    "dt.head()"
   ]
  },
  {
   "cell_type": "code",
   "execution_count": 35,
   "metadata": {},
   "outputs": [
    {
     "data": {
      "text/html": [
       "<div>\n",
       "<style scoped>\n",
       "    .dataframe tbody tr th:only-of-type {\n",
       "        vertical-align: middle;\n",
       "    }\n",
       "\n",
       "    .dataframe tbody tr th {\n",
       "        vertical-align: top;\n",
       "    }\n",
       "\n",
       "    .dataframe thead th {\n",
       "        text-align: right;\n",
       "    }\n",
       "</style>\n",
       "<table border=\"1\" class=\"dataframe\">\n",
       "  <thead>\n",
       "    <tr style=\"text-align: right;\">\n",
       "      <th></th>\n",
       "      <th>Stud_id</th>\n",
       "      <th>Gender</th>\n",
       "      <th>Dept</th>\n",
       "      <th>Attendance</th>\n",
       "      <th>SemMarks</th>\n",
       "      <th>Name</th>\n",
       "    </tr>\n",
       "  </thead>\n",
       "  <tbody>\n",
       "    <tr>\n",
       "      <th>0</th>\n",
       "      <td>M197</td>\n",
       "      <td>Female</td>\n",
       "      <td>Science</td>\n",
       "      <td>63.0</td>\n",
       "      <td>475.0</td>\n",
       "      <td>Ritu</td>\n",
       "    </tr>\n",
       "    <tr>\n",
       "      <th>1</th>\n",
       "      <td>M181</td>\n",
       "      <td>Male</td>\n",
       "      <td>Commerce</td>\n",
       "      <td>86.0</td>\n",
       "      <td>303.0</td>\n",
       "      <td>Victor</td>\n",
       "    </tr>\n",
       "    <tr>\n",
       "      <th>2</th>\n",
       "      <td>S137</td>\n",
       "      <td>Female</td>\n",
       "      <td>Commerce</td>\n",
       "      <td>79.0</td>\n",
       "      <td>587.0</td>\n",
       "      <td>Daven</td>\n",
       "    </tr>\n",
       "    <tr>\n",
       "      <th>3</th>\n",
       "      <td>M193</td>\n",
       "      <td>Male</td>\n",
       "      <td>Commerce</td>\n",
       "      <td>47.0</td>\n",
       "      <td>403.0</td>\n",
       "      <td>Fernado</td>\n",
       "    </tr>\n",
       "    <tr>\n",
       "      <th>4</th>\n",
       "      <td>C166</td>\n",
       "      <td>Female</td>\n",
       "      <td>Science</td>\n",
       "      <td>59.0</td>\n",
       "      <td>461.0</td>\n",
       "      <td>Rose</td>\n",
       "    </tr>\n",
       "    <tr>\n",
       "      <th>...</th>\n",
       "      <td>...</td>\n",
       "      <td>...</td>\n",
       "      <td>...</td>\n",
       "      <td>...</td>\n",
       "      <td>...</td>\n",
       "      <td>...</td>\n",
       "    </tr>\n",
       "    <tr>\n",
       "      <th>102</th>\n",
       "      <td>M200</td>\n",
       "      <td>Female</td>\n",
       "      <td>Science</td>\n",
       "      <td>67.0</td>\n",
       "      <td>426.0</td>\n",
       "      <td>NaN</td>\n",
       "    </tr>\n",
       "    <tr>\n",
       "      <th>103</th>\n",
       "      <td>S148</td>\n",
       "      <td>Male</td>\n",
       "      <td>Commerce</td>\n",
       "      <td>45.0</td>\n",
       "      <td>297.0</td>\n",
       "      <td>NaN</td>\n",
       "    </tr>\n",
       "    <tr>\n",
       "      <th>104</th>\n",
       "      <td>M186</td>\n",
       "      <td>Female</td>\n",
       "      <td>Commerce</td>\n",
       "      <td>53.0</td>\n",
       "      <td>438.0</td>\n",
       "      <td>NaN</td>\n",
       "    </tr>\n",
       "    <tr>\n",
       "      <th>105</th>\n",
       "      <td>C167</td>\n",
       "      <td>Male</td>\n",
       "      <td>Science</td>\n",
       "      <td>59.0</td>\n",
       "      <td>288.0</td>\n",
       "      <td>NaN</td>\n",
       "    </tr>\n",
       "    <tr>\n",
       "      <th>106</th>\n",
       "      <td>A128</td>\n",
       "      <td>Female</td>\n",
       "      <td>Commerce</td>\n",
       "      <td>NaN</td>\n",
       "      <td>NaN</td>\n",
       "      <td>NaN</td>\n",
       "    </tr>\n",
       "  </tbody>\n",
       "</table>\n",
       "<p>107 rows × 6 columns</p>\n",
       "</div>"
      ],
      "text/plain": [
       "    Stud_id  Gender      Dept  Attendance  SemMarks     Name\n",
       "0      M197  Female   Science        63.0     475.0     Ritu\n",
       "1      M181    Male  Commerce        86.0     303.0   Victor\n",
       "2      S137  Female  Commerce        79.0     587.0    Daven\n",
       "3      M193    Male  Commerce        47.0     403.0  Fernado\n",
       "4      C166  Female   Science        59.0     461.0     Rose\n",
       "..      ...     ...       ...         ...       ...      ...\n",
       "102    M200  Female   Science        67.0     426.0      NaN\n",
       "103    S148    Male  Commerce        45.0     297.0      NaN\n",
       "104    M186  Female  Commerce        53.0     438.0      NaN\n",
       "105    C167    Male   Science        59.0     288.0      NaN\n",
       "106    A128  Female  Commerce         NaN       NaN      NaN\n",
       "\n",
       "[107 rows x 6 columns]"
      ]
     },
     "execution_count": 35,
     "metadata": {},
     "output_type": "execute_result"
    }
   ],
   "source": [
    "dt.drop('Unnamed: 6',axis=1)"
   ]
  },
  {
   "cell_type": "code",
   "execution_count": 36,
   "metadata": {
    "colab": {
     "base_uri": "https://localhost:8080/",
     "height": 195
    },
    "colab_type": "code",
    "id": "Z-8yejZnWXrS",
    "outputId": "7b281460-5b4d-4a51-e4ec-0a42a9702ecb"
   },
   "outputs": [
    {
     "data": {
      "text/html": [
       "<div>\n",
       "<style scoped>\n",
       "    .dataframe tbody tr th:only-of-type {\n",
       "        vertical-align: middle;\n",
       "    }\n",
       "\n",
       "    .dataframe tbody tr th {\n",
       "        vertical-align: top;\n",
       "    }\n",
       "\n",
       "    .dataframe thead th {\n",
       "        text-align: right;\n",
       "    }\n",
       "</style>\n",
       "<table border=\"1\" class=\"dataframe\">\n",
       "  <thead>\n",
       "    <tr style=\"text-align: right;\">\n",
       "      <th></th>\n",
       "      <th>Stud_id</th>\n",
       "      <th>Gender</th>\n",
       "      <th>Dept</th>\n",
       "      <th>Attendance</th>\n",
       "      <th>SemMarks</th>\n",
       "      <th>Name</th>\n",
       "      <th>Unnamed: 6</th>\n",
       "    </tr>\n",
       "  </thead>\n",
       "  <tbody>\n",
       "    <tr>\n",
       "      <th>5</th>\n",
       "      <td>S138</td>\n",
       "      <td>Male</td>\n",
       "      <td>Commerce</td>\n",
       "      <td>88.0</td>\n",
       "      <td>452.0</td>\n",
       "      <td>Vijay</td>\n",
       "      <td>NaN</td>\n",
       "    </tr>\n",
       "    <tr>\n",
       "      <th>6</th>\n",
       "      <td>A102</td>\n",
       "      <td>Female</td>\n",
       "      <td>Arts</td>\n",
       "      <td>97.0</td>\n",
       "      <td>589.0</td>\n",
       "      <td>Honey</td>\n",
       "      <td>NaN</td>\n",
       "    </tr>\n",
       "    <tr>\n",
       "      <th>7</th>\n",
       "      <td>A124</td>\n",
       "      <td>Male</td>\n",
       "      <td>Commerce</td>\n",
       "      <td>97.0</td>\n",
       "      <td>355.0</td>\n",
       "      <td>Randy</td>\n",
       "      <td>NaN</td>\n",
       "    </tr>\n",
       "    <tr>\n",
       "      <th>8</th>\n",
       "      <td>C173</td>\n",
       "      <td>Female</td>\n",
       "      <td>Arts</td>\n",
       "      <td>97.0</td>\n",
       "      <td>473.0</td>\n",
       "      <td>Jannet</td>\n",
       "      <td>NaN</td>\n",
       "    </tr>\n",
       "    <tr>\n",
       "      <th>9</th>\n",
       "      <td>C155</td>\n",
       "      <td>Male</td>\n",
       "      <td>Science</td>\n",
       "      <td>NaN</td>\n",
       "      <td>411.0</td>\n",
       "      <td>Pillai</td>\n",
       "      <td>NaN</td>\n",
       "    </tr>\n",
       "  </tbody>\n",
       "</table>\n",
       "</div>"
      ],
      "text/plain": [
       "  Stud_id  Gender      Dept  Attendance  SemMarks    Name  Unnamed: 6\n",
       "5    S138    Male  Commerce        88.0     452.0   Vijay         NaN\n",
       "6    A102  Female      Arts        97.0     589.0   Honey         NaN\n",
       "7    A124    Male  Commerce        97.0     355.0   Randy         NaN\n",
       "8    C173  Female      Arts        97.0     473.0  Jannet         NaN\n",
       "9    C155    Male   Science         NaN     411.0  Pillai         NaN"
      ]
     },
     "execution_count": 36,
     "metadata": {},
     "output_type": "execute_result"
    }
   ],
   "source": [
    "dt[5:10]"
   ]
  },
  {
   "cell_type": "code",
   "execution_count": 37,
   "metadata": {
    "colab": {
     "base_uri": "https://localhost:8080/",
     "height": 34
    },
    "colab_type": "code",
    "id": "v9illv61WXoY",
    "outputId": "d3c1cba1-795d-40e5-d592-a9c7645bd805"
   },
   "outputs": [
    {
     "data": {
      "text/plain": [
       "array(['Science', 'Commerce', 'Arts', 'Comms', 'Art', nan], dtype=object)"
      ]
     },
     "execution_count": 37,
     "metadata": {},
     "output_type": "execute_result"
    }
   ],
   "source": [
    "dt.Dept.unique()"
   ]
  },
  {
   "cell_type": "markdown",
   "metadata": {
    "colab_type": "text",
    "id": "APlD67OpoOMn"
   },
   "source": [
    "## MEAN"
   ]
  },
  {
   "cell_type": "code",
   "execution_count": 38,
   "metadata": {
    "colab": {
     "base_uri": "https://localhost:8080/",
     "height": 1000
    },
    "colab_type": "code",
    "id": "E5JIJ_2-oOMo",
    "outputId": "357db1f1-3acf-4ee1-e374-e35bdd7d3eeb"
   },
   "outputs": [
    {
     "name": "stderr",
     "output_type": "stream",
     "text": [
      "C:\\Users\\isbe\\AppData\\Local\\Temp\\ipykernel_21944\\531903386.py:1: FutureWarning: The default value of numeric_only in DataFrame.mean is deprecated. In a future version, it will default to False. In addition, specifying 'numeric_only=None' is deprecated. Select only valid columns or specify the value of numeric_only to silence this warning.\n",
      "  data.mean()\n"
     ]
    },
    {
     "data": {
      "text/plain": [
       "Active Calories (kcal)               346.623511\n",
       "Biotin (mcg)                           0.000000\n",
       "Blood Alcohol Content (%)              0.000000\n",
       "Blood Glucose (mg/dL)                  0.216093\n",
       "Blood Pressure (Diastolic) (mmHg)      0.912647\n",
       "                                        ...    \n",
       "Vitamin K (mcg)                        0.000000\n",
       "Weight (kg)                            8.273077\n",
       "Dietary Water (L)                      0.000000\n",
       "Zinc (mg)                              0.000000\n",
       "UV Exposure (count)                    0.000000\n",
       "Length: 66, dtype: float64"
      ]
     },
     "execution_count": 38,
     "metadata": {},
     "output_type": "execute_result"
    }
   ],
   "source": [
    "data.mean()"
   ]
  },
  {
   "cell_type": "markdown",
   "metadata": {
    "colab_type": "text",
    "id": "ATstfIpjoOMs"
   },
   "source": [
    "To see specific rows(eg: 10 to 15)"
   ]
  },
  {
   "cell_type": "markdown",
   "metadata": {
    "colab_type": "text",
    "id": "Keant0QRoOMu"
   },
   "source": [
    "## MEDIAN"
   ]
  },
  {
   "cell_type": "code",
   "execution_count": 39,
   "metadata": {
    "colab": {
     "base_uri": "https://localhost:8080/",
     "height": 1000
    },
    "colab_type": "code",
    "id": "DgWRzsquoOMw",
    "outputId": "7bd25a72-d826-4b51-a5d1-d8b816e8865f"
   },
   "outputs": [
    {
     "name": "stderr",
     "output_type": "stream",
     "text": [
      "C:\\Users\\isbe\\AppData\\Local\\Temp\\ipykernel_21944\\4184645713.py:1: FutureWarning: The default value of numeric_only in DataFrame.median is deprecated. In a future version, it will default to False. In addition, specifying 'numeric_only=None' is deprecated. Select only valid columns or specify the value of numeric_only to silence this warning.\n",
      "  data.median()\n"
     ]
    },
    {
     "data": {
      "text/plain": [
       "Active Calories (kcal)               298.0\n",
       "Biotin (mcg)                           0.0\n",
       "Blood Alcohol Content (%)              0.0\n",
       "Blood Glucose (mg/dL)                  0.0\n",
       "Blood Pressure (Diastolic) (mmHg)      0.0\n",
       "                                     ...  \n",
       "Vitamin K (mcg)                        0.0\n",
       "Weight (kg)                            0.0\n",
       "Dietary Water (L)                      0.0\n",
       "Zinc (mg)                              0.0\n",
       "UV Exposure (count)                    0.0\n",
       "Length: 66, dtype: float64"
      ]
     },
     "execution_count": 39,
     "metadata": {},
     "output_type": "execute_result"
    }
   ],
   "source": [
    "data.median()"
   ]
  }
 ],
 "metadata": {
  "colab": {
   "collapsed_sections": [],
   "name": "Data_Analysis_using_Python_Workshop_WIMTACH_CentennialCollege (1).ipynb",
   "provenance": [],
   "version": "0.3.2"
  },
  "kernelspec": {
   "display_name": "Python 3",
   "language": "python",
   "name": "python3"
  },
  "language_info": {
   "codemirror_mode": {
    "name": "ipython",
    "version": 3
   },
   "file_extension": ".py",
   "mimetype": "text/x-python",
   "name": "python",
   "nbconvert_exporter": "python",
   "pygments_lexer": "ipython3",
   "version": "3.10.9"
  }
 },
 "nbformat": 4,
 "nbformat_minor": 1
}
